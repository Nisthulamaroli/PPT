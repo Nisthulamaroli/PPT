{
 "cells": [
  {
   "cell_type": "markdown",
   "id": "d02d4858",
   "metadata": {},
   "source": [
    "💡 **Q1.** Given an array of integers nums and an integer target, return indices of the two numbers such that they add up to target.\n",
    "\n",
    "You may assume that each input would have exactly one solution, and you may not use the same element twice.\n",
    "\n",
    "You can return the answer in any order.\n",
    "\n",
    "**Example:**\n",
    "Input: nums = [2,7,11,15], target = 9\n",
    "Output0 [0,1]\n",
    "\n",
    "**Explanation:** Because nums[0] + nums[1] == 9, we return [0, 1][\n",
    "\n"
   ]
  },
  {
   "cell_type": "code",
   "execution_count": null,
   "id": "5380ff1b",
   "metadata": {},
   "outputs": [],
   "source": [
    "def sum(A,Target):\n",
    "    for i in range(len(A)):\n",
    "        for j in range(i+1,len(A)):\n",
    "            if A[i]+A[j]==Target:\n",
    "                return (i,j)\n",
    "  \n",
    "    "
   ]
  },
  {
   "cell_type": "code",
   "execution_count": null,
   "id": "d888a243",
   "metadata": {},
   "outputs": [],
   "source": [
    "A= [2,7,11,15]\n",
    "Target=9\n",
    "sum(A,Target)"
   ]
  },
  {
   "cell_type": "markdown",
   "id": "ddb8d06d",
   "metadata": {},
   "source": [
    "💡 **Q2.** Given an integer array nums and an integer val, remove all occurrences of val in nums in-place. The order of the elements may be changed. Then return the number of elements in nums which are not equal to val.\n",
    "\n",
    "Consider the number of elements in nums which are not equal to val be k, to get accepted, you need to do the following things:\n",
    "\n",
    "- Change the array nums such that the first k elements of nums contain the elements which are not equal to val. The remaining elements of nums are not important as well as the size of nums.\n",
    "- Return k.\n",
    "\n",
    "**Example :**\n",
    "Input: nums = [3,2,2,3], val = 3\n",
    "Output: 2, nums = [2,2,_*,_*]\n",
    "\n",
    "**Explanation:** Your function should return k = 2, with the first two elements of nums being 2. It does not matter what you leave beyond the returned k (hence they are underscores)"
   ]
  },
  {
   "cell_type": "code",
   "execution_count": null,
   "id": "c06a0ab8",
   "metadata": {},
   "outputs": [],
   "source": [
    "def remove(A,B):\n",
    "    C=[]\n",
    "    for i in range(len(A)):\n",
    "        if A[i]!=B:\n",
    "            C.append(A[i])\n",
    "        else:\n",
    "            C.append('* ')\n",
    "            \n",
    "    print(C)\n",
    "            \n",
    "    \n",
    "            \n",
    "\n",
    "    \n",
    "    "
   ]
  },
  {
   "cell_type": "code",
   "execution_count": null,
   "id": "04fad32f",
   "metadata": {},
   "outputs": [],
   "source": [
    "A=[3,2,2,3]\n",
    "B=3\n",
    "remove(A,B)"
   ]
  },
  {
   "cell_type": "markdown",
   "id": "a9c167d2",
   "metadata": {},
   "source": [
    "\n",
    " **3.** Given a sorted array of distinct integers and a target value, return the index if the target is found. If not, return the index where it would be if it were inserted in order.\n",
    "\n",
    "You must write an algorithm with O(log n) runtime complexity.\n",
    "\n",
    "**Example 1:**\n",
    "Input: nums = [1,3,5,6], target = 5\n",
    "\n",
    "Output: 2\n",
    "\n"
   ]
  },
  {
   "cell_type": "code",
   "execution_count": null,
   "id": "14453f58",
   "metadata": {},
   "outputs": [],
   "source": [
    "def sort(A,Target):\n",
    "    for i in range(0,len(A)):\n",
    "        if A[i]==Target:\n",
    "            print(i)"
   ]
  },
  {
   "cell_type": "code",
   "execution_count": null,
   "id": "0213f5f0",
   "metadata": {},
   "outputs": [],
   "source": [
    "A=[1,3,5,6]\n",
    "Target=5\n",
    "sort(A,Target)"
   ]
  },
  {
   "cell_type": "markdown",
   "id": "4df818e8",
   "metadata": {},
   "source": [
    "**4.** You are given a large integer represented as an integer array digits, where each digits[i] is the ith digit of the integer. The digits are ordered from most significant to least significant in left-to-right order. The large integer does not contain any leading 0's.\n",
    "\n",
    "Increment the large integer by one and return the resulting array of digits.\n",
    "\n",
    "**Example 1:**\n",
    "Input: digits = [1,2,3]\n",
    "Output: [1,2,4]\n",
    "\n",
    "**Explanation:** The array represents the integer 123.\n",
    "\n",
    "Incrementing by one gives 123 + 1 = 124.\n",
    "Thus, the result should be [1,2,4].\n",
    "\n"
   ]
  },
  {
   "cell_type": "code",
   "execution_count": null,
   "id": "60d35883",
   "metadata": {},
   "outputs": [],
   "source": [
    "\n",
    "class Solution(object):\n",
    "    def plusOne(self, digits):\n",
    "\n",
    "        digit_length = len(digits)\n",
    "        \n",
    "        i = digit_length - 1\n",
    "        \n",
    "        while digits[i] == 9 and i >= 0:\n",
    "            i -= 1\n",
    "        \n",
    "        if i == -1:\n",
    "            results = [0]*(digit_length + 1)\n",
    "            results[0] = 1\n",
    "            return results\n",
    "        \n",
    "        results = [0]*(digit_length)\n",
    "        \n",
    "        results[i] = digits[i] + 1\n",
    "        \n",
    "        for j in range(i-1, -1, -1):\n",
    "            results[j] = digits[j]\n",
    "        \n",
    "        return results"
   ]
  },
  {
   "cell_type": "code",
   "execution_count": null,
   "id": "29f9ae8e",
   "metadata": {},
   "outputs": [],
   "source": [
    "x=Solution()\n",
    "print(x.plusOne([1]))"
   ]
  },
  {
   "cell_type": "markdown",
   "id": "62226412",
   "metadata": {},
   "source": [
    "**6.** Given an integer array nums, return true if any value appears at least twice in the array, and return false if every element is distinct.\n",
    "\n",
    "**Example 1:**\n",
    "Input: nums = [1,2,3,1]\n",
    "\n",
    "Output: true\n"
   ]
  },
  {
   "cell_type": "code",
   "execution_count": null,
   "id": "b83d6ff3",
   "metadata": {},
   "outputs": [],
   "source": [
    "def distinct(A):\n",
    "    count=0\n",
    "    i=0\n",
    "    j=len(A)-1\n",
    "    if A[i]==A[j]:\n",
    "        count= count+1\n",
    "        i+=1\n",
    "        j-=1\n",
    "    if count>=1:\n",
    "        print(True)\n",
    "    else:\n",
    "        print(False)\n",
    "    \n",
    "            "
   ]
  },
  {
   "cell_type": "code",
   "execution_count": null,
   "id": "f9350094",
   "metadata": {},
   "outputs": [],
   "source": [
    "A=[1,2,3,1]\n",
    "distinct(A)"
   ]
  },
  {
   "cell_type": "markdown",
   "id": "1424c9d0",
   "metadata": {},
   "source": [
    "**7.** Given an integer array nums, move all 0's to the end of it while maintaining the relative order of the nonzero elements.\n",
    "\n",
    "Note that you must do this in-place without making a copy of the array.\n",
    "\n",
    "**Example 1:**\n",
    "Input: nums = [0,1,0,3,12]\n",
    "Output: [1,3,12,0,0]\n",
    "\n"
   ]
  },
  {
   "cell_type": "code",
   "execution_count": 54,
   "id": "45de6936",
   "metadata": {},
   "outputs": [
    {
     "name": "stdout",
     "output_type": "stream",
     "text": [
      "[1, 3, 12, 0, 0]\n"
     ]
    }
   ],
   "source": [
    "nums = [0,1,0,12,3]\n",
    "count=0\n",
    "for i in range(nums.count(0)):\n",
    "    nums.remove(0)\n",
    "    count+=1\n",
    "    nums=sorted(nums)\n",
    "\n",
    "\n",
    "for i in range(0,count):\n",
    "    nums.append(0)\n",
    "print(nums)"
   ]
  },
  {
   "cell_type": "markdown",
   "id": "d6e3537b",
   "metadata": {},
   "source": [
    " **8.** You have a set of integers s, which originally contains all the numbers from 1 to n. Unfortunately, due to some error, one of the numbers in s got duplicated to another number in the set, which results in repetition of one number and loss of another number.\n",
    "\n",
    "You are given an integer array nums representing the data status of this set after the error.\n",
    "\n",
    "Find the number that occurs twice and the number that is missing and return them in the form of an array.\n",
    "\n",
    "**Example 1:**\n",
    "Input: nums = [1,2,2,4]\n",
    "Output: [2,3]\n",
    "\n"
   ]
  },
  {
   "cell_type": "code",
   "execution_count": 56,
   "id": "4c31652d",
   "metadata": {},
   "outputs": [],
   "source": [
    "class Solution(object):\n",
    "    def findErrorNums(self, nums):\n",
    "        nums.sort()\n",
    "        rep_miss = [] \n",
    "        for i  in range(len(nums)) :\n",
    "            for j in range(i+1, len(nums)) :\n",
    "            \n",
    "                if   nums[i] == nums[j] :\n",
    "                    rep_miss.append(nums[i])\n",
    "\n",
    "        for i  in range(1, len(nums)+1) :\n",
    "            if i not in nums : \n",
    "                rep_miss.append(i)\n",
    "\n",
    "        return rep_miss\n",
    "\n",
    "    \n",
    "    \n",
    "  "
   ]
  },
  {
   "cell_type": "code",
   "execution_count": 59,
   "id": "32fb2efe",
   "metadata": {},
   "outputs": [
    {
     "name": "stdout",
     "output_type": "stream",
     "text": [
      "[2, 3]\n"
     ]
    }
   ],
   "source": [
    "x=Solution()\n",
    "\n",
    "print(x.findErrorNums([1,2,2,4]))"
   ]
  },
  {
   "cell_type": "code",
   "execution_count": null,
   "id": "27d8f9fb",
   "metadata": {},
   "outputs": [],
   "source": []
  }
 ],
 "metadata": {
  "kernelspec": {
   "display_name": "Python 3 (ipykernel)",
   "language": "python",
   "name": "python3"
  },
  "language_info": {
   "codemirror_mode": {
    "name": "ipython",
    "version": 3
   },
   "file_extension": ".py",
   "mimetype": "text/x-python",
   "name": "python",
   "nbconvert_exporter": "python",
   "pygments_lexer": "ipython3",
   "version": "3.9.12"
  }
 },
 "nbformat": 4,
 "nbformat_minor": 5
}
